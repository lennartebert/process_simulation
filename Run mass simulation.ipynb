{
 "cells": [
  {
   "cell_type": "markdown",
   "metadata": {},
   "source": [
    "# Run a massive number of simulations\n",
    "\n",
    "## Instructions\n",
    "\n",
    "1. Set parameter set to simulate in simulation_settings.yml\n",
    "2. Set output file path in this workbook\n",
    "3. Run this workbook\n",
    "\n",
    "Alterantively, you can also run the simulation from the command line:\n",
    "\n",
    "```\n",
    "python process_simulation.py --settings simulation_settings.yml --output local_results/simulation_results.csv\n",
    "```"
   ]
  },
  {
   "cell_type": "code",
   "execution_count": null,
   "metadata": {},
   "outputs": [],
   "source": [
    "# imports\n",
    "import process_simulation\n",
    "import subprocess\n",
    "import sys\n",
    "\n",
    "# see simulation_settings.yml for configuration of simulation settings\n",
    "settings_file = 'simulation_settings.yml'\n",
    "\n",
    "# set the output files for running the experiments\n",
    "output_file = 'local_results/simulation_results.csv'\n",
    "output_file_sensitivity_analysis = 'local_results/sensitivity_analysis_results.csv'"
   ]
  },
  {
   "cell_type": "markdown",
   "metadata": {},
   "source": [
    "##  Run the experiments"
   ]
  },
  {
   "cell_type": "code",
   "execution_count": null,
   "metadata": {},
   "outputs": [],
   "source": [
    "cmd = [\"python\", \"-u\", \"process_simulation.py\", \"--settings\", settings_file, \"--output\", output_file, \"--random_order\"]\n",
    "\n",
    "# Start the process and capture its output in real time\n",
    "process = subprocess.Popen(cmd, stdout=subprocess.PIPE, stderr=subprocess.STDOUT, text=True)\n",
    "\n",
    "while True:\n",
    "    line = process.stdout.readline()\n",
    "    if line:\n",
    "        sys.stdout.write(line)\n",
    "        sys.stdout.flush()\n",
    "    elif process.poll() is not None:\n",
    "        break"
   ]
  },
  {
   "cell_type": "markdown",
   "metadata": {},
   "source": [
    "## Run the sensitivity analysis"
   ]
  },
  {
   "cell_type": "code",
   "execution_count": null,
   "metadata": {},
   "outputs": [],
   "source": [
    "cmd = [\"python\", \"-u\", \"process_simulation.py\", \"--settings\", settings_file, \"--output\", output_file_sensitivity_analysis, \"--random_order\", \"--sensitivity_analysis\"]\n",
    "\n",
    "# Start the process and capture its output in real time\n",
    "process = subprocess.Popen(cmd, stdout=subprocess.PIPE, stderr=subprocess.STDOUT, text=True)\n",
    "\n",
    "while True:\n",
    "    line = process.stdout.readline()\n",
    "    if line:\n",
    "        sys.stdout.write(line)\n",
    "        sys.stdout.flush()\n",
    "    elif process.poll() is not None:\n",
    "        break"
   ]
  },
  {
   "cell_type": "markdown",
   "metadata": {},
   "source": [
    "## Performance analytics"
   ]
  },
  {
   "cell_type": "code",
   "execution_count": null,
   "metadata": {},
   "outputs": [],
   "source": [
    "# code for performance analytics\n",
    "# set configuration for non-automated process, no exceptions\n",
    "t = 5000 # number of iterations (5000 default)\n",
    "l = 100 # lexicon: number of different process steps\n",
    "m = 5 # number of subunits of the process, needs to be a factor of l\n",
    "r = 50 # number of historic sequences remembered\n",
    "n = 5\n",
    "\n",
    "# set variability metrics\n",
    "v_m = 0.005\n",
    "v_a = 0\n",
    "v_m_e = 0.01\n",
    "v_a_e = 0.03\n",
    "\n",
    "# set automation degree and exception percentage \n",
    "a = 0\n",
    "e = 0\n",
    "\n",
    "# set the seed to an integer value for reproducibility\n",
    "seed = 1\n",
    "\n",
    "# create simulation\n",
    "my_simulation = process_simulation.ProcessSimulationModel(t, l, m, r, n, v_m=v_m, v_a=v_a, v_m_e=v_m_e, v_a_e=v_a_e, a=a, e=e, seed=seed)\n",
    "\n",
    "# run the simulation and store runtime dynamics\n",
    "import cProfile\n",
    "import pstats\n",
    "from io import StringIO\n",
    "import os\n",
    "\n",
    "# Create a profiler object\n",
    "profiler = cProfile.Profile()\n",
    "\n",
    "# Start profiling\n",
    "profiler.enable()\n",
    "\n",
    "# Run the simulation\n",
    "adjacency_matrices = my_simulation.run_simulation(normalize_adjacency_matrices=True)\n",
    "\n",
    "# Stop profiling\n",
    "profiler.disable()\n",
    "\n",
    "# Create a stream to hold the profile data\n",
    "stream = StringIO()\n",
    "\n",
    "# Create a Stats object and sort the profile data\n",
    "stats = pstats.Stats(profiler, stream=stream).sort_stats(pstats.SortKey.CUMULATIVE)\n",
    "\n",
    "# Print the profile to stream\n",
    "stats.print_stats()\n",
    "\n",
    "# Display the profile data in the Jupyter notebook\n",
    "profile_data = stream.getvalue()\n",
    "print(profile_data)\n",
    "\n",
    "# Optionally, you can save the profile data to a file for later analysis\n",
    "# Create folder if it does not exist\n",
    "if not os.path.exists(\"local_results\"):\n",
    "    os.makedirs(\"local_results\")\n",
    "\n",
    "with open(\"local_results/profile_output.txt\", \"w\") as f:\n",
    "    f.write(stream.getvalue())"
   ]
  }
 ],
 "metadata": {
  "kernelspec": {
   "display_name": "process_simulation",
   "language": "python",
   "name": "python3"
  },
  "language_info": {
   "codemirror_mode": {
    "name": "ipython",
    "version": 3
   },
   "file_extension": ".py",
   "mimetype": "text/x-python",
   "name": "python",
   "nbconvert_exporter": "python",
   "pygments_lexer": "ipython3",
   "version": "3.13.2"
  }
 },
 "nbformat": 4,
 "nbformat_minor": 2
}
