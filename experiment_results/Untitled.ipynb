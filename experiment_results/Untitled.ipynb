{
 "cells": [
  {
   "cell_type": "code",
   "execution_count": 1,
   "id": "f8578815-32a1-4876-acdc-e53f2f46b0d3",
   "metadata": {},
   "outputs": [],
   "source": [
    "import numpy as np"
   ]
  },
  {
   "cell_type": "code",
   "execution_count": 4,
   "id": "41c0eb11-ec62-4478-84d7-22f9ef60da8a",
   "metadata": {},
   "outputs": [],
   "source": [
    "tfidf1 = np.array([np.log2(5/3), np.log2(5/4), np.log2(5), np.log2(5/3),0,0,0])\n",
    "tfidf2 = np.array([0.5 * np.log2(5/3), 0.5 * np.log2(5/4), 0, 0.5 * np.log2(5/3),0,np.log2(5/2),0])"
   ]
  },
  {
   "cell_type": "code",
   "execution_count": 7,
   "id": "4f23ab38-9889-470a-8fa3-be17a391b559",
   "metadata": {},
   "outputs": [
    {
     "data": {
      "text/plain": [
       "0.5949371361236526"
      ]
     },
     "execution_count": 7,
     "metadata": {},
     "output_type": "execute_result"
    }
   ],
   "source": [
    "np.dot(tfidf1, tfidf2)"
   ]
  },
  {
   "cell_type": "code",
   "execution_count": 12,
   "id": "59bf621b-e291-4597-a23e-57e479d9bb57",
   "metadata": {},
   "outputs": [
    {
     "data": {
      "text/plain": [
       "2.5653897072520113"
      ]
     },
     "execution_count": 12,
     "metadata": {},
     "output_type": "execute_result"
    }
   ],
   "source": [
    "np.linalg.norm(tfidf1)"
   ]
  },
  {
   "cell_type": "code",
   "execution_count": 13,
   "id": "4de3108f-017e-43b1-aac7-62b61986cac0",
   "metadata": {},
   "outputs": [
    {
     "data": {
      "text/plain": [
       "1.430021837635481"
      ]
     },
     "execution_count": 13,
     "metadata": {},
     "output_type": "execute_result"
    }
   ],
   "source": [
    "np.linalg.norm(tfidf2)"
   ]
  },
  {
   "cell_type": "code",
   "execution_count": 10,
   "id": "6153cb96-b488-424e-afef-a14a8925b6ac",
   "metadata": {},
   "outputs": [
    {
     "data": {
      "text/plain": [
       "0.16217169690645045"
      ]
     },
     "execution_count": 10,
     "metadata": {},
     "output_type": "execute_result"
    }
   ],
   "source": [
    "np.dot(tfidf1, tfidf2) / (np.linalg.norm(tfidf1) * np.linalg.norm(tfidf2))"
   ]
  }
 ],
 "metadata": {
  "kernelspec": {
   "display_name": "Python 3 (ipykernel)",
   "language": "python",
   "name": "python3"
  },
  "language_info": {
   "codemirror_mode": {
    "name": "ipython",
    "version": 3
   },
   "file_extension": ".py",
   "mimetype": "text/x-python",
   "name": "python",
   "nbconvert_exporter": "python",
   "pygments_lexer": "ipython3",
   "version": "3.9.7"
  }
 },
 "nbformat": 4,
 "nbformat_minor": 5
}
